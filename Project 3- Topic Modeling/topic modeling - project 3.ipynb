{
 "cells": [
  {
   "cell_type": "code",
   "execution_count": 1,
   "metadata": {},
   "outputs": [],
   "source": [
    "import pandas as pd\n",
    "import string \n",
    "from nltk.tokenize import word_tokenize, sent_tokenize   #for tokenization\n",
    "from nltk.stem import WordNetLemmatizer,SnowballStemmer\n",
    "from nltk.corpus import stopwords\n",
    "import gensim"
   ]
  },
  {
   "cell_type": "code",
   "execution_count": 2,
   "metadata": {},
   "outputs": [
    {
     "data": {
      "text/html": [
       "<div>\n",
       "<style scoped>\n",
       "    .dataframe tbody tr th:only-of-type {\n",
       "        vertical-align: middle;\n",
       "    }\n",
       "\n",
       "    .dataframe tbody tr th {\n",
       "        vertical-align: top;\n",
       "    }\n",
       "\n",
       "    .dataframe thead th {\n",
       "        text-align: right;\n",
       "    }\n",
       "</style>\n",
       "<table border=\"1\" class=\"dataframe\">\n",
       "  <thead>\n",
       "    <tr style=\"text-align: right;\">\n",
       "      <th></th>\n",
       "      <th>head</th>\n",
       "      <th>desc</th>\n",
       "      <th>topic</th>\n",
       "    </tr>\n",
       "  </thead>\n",
       "  <tbody>\n",
       "    <tr>\n",
       "      <th>0</th>\n",
       "      <td>Ministry allows airlines to set ‘baggage limit’</td>\n",
       "      <td>The Ministry of Civil Aviation (MoCA) has am...</td>\n",
       "      <td>india</td>\n",
       "    </tr>\n",
       "    <tr>\n",
       "      <th>1</th>\n",
       "      <td>SAARC must defeat terrorism: Jaishankar</td>\n",
       "      <td>Listing cross-border terrorism as one of the...</td>\n",
       "      <td>india</td>\n",
       "    </tr>\n",
       "    <tr>\n",
       "      <th>2</th>\n",
       "      <td>BJP’s leader accuses party official of harassment</td>\n",
       "      <td>The lady leader of BJP's Minority Front has ...</td>\n",
       "      <td>india</td>\n",
       "    </tr>\n",
       "    <tr>\n",
       "      <th>3</th>\n",
       "      <td>AMU reservation issue raised in Parliament again</td>\n",
       "      <td>Once again MP Satish Kumar Gautam raised the...</td>\n",
       "      <td>india</td>\n",
       "    </tr>\n",
       "    <tr>\n",
       "      <th>4</th>\n",
       "      <td>Drive to remove encroachment in Agra to clean ...</td>\n",
       "      <td>Nagar Nigam Aligarh started a campaign to re...</td>\n",
       "      <td>india</td>\n",
       "    </tr>\n",
       "    <tr>\n",
       "      <th>5</th>\n",
       "      <td>Madras High Court quashes Palani Temple's move...</td>\n",
       "      <td>The Madurai Bench of the Madras High Court o...</td>\n",
       "      <td>india</td>\n",
       "    </tr>\n",
       "    <tr>\n",
       "      <th>6</th>\n",
       "      <td>Aligarh lock company faces copyright charges</td>\n",
       "      <td>A Talanagri-based company has been accused o...</td>\n",
       "      <td>india</td>\n",
       "    </tr>\n",
       "  </tbody>\n",
       "</table>\n",
       "</div>"
      ],
      "text/plain": [
       "                                                head  \\\n",
       "0    Ministry allows airlines to set ‘baggage limit’   \n",
       "1            SAARC must defeat terrorism: Jaishankar   \n",
       "2  BJP’s leader accuses party official of harassment   \n",
       "3   AMU reservation issue raised in Parliament again   \n",
       "4  Drive to remove encroachment in Agra to clean ...   \n",
       "5  Madras High Court quashes Palani Temple's move...   \n",
       "6       Aligarh lock company faces copyright charges   \n",
       "\n",
       "                                                desc  topic  \n",
       "0    The Ministry of Civil Aviation (MoCA) has am...  india  \n",
       "1    Listing cross-border terrorism as one of the...  india  \n",
       "2    The lady leader of BJP's Minority Front has ...  india  \n",
       "3    Once again MP Satish Kumar Gautam raised the...  india  \n",
       "4    Nagar Nigam Aligarh started a campaign to re...  india  \n",
       "5    The Madurai Bench of the Madras High Court o...  india  \n",
       "6    A Talanagri-based company has been accused o...  india  "
      ]
     },
     "execution_count": 2,
     "metadata": {},
     "output_type": "execute_result"
    }
   ],
   "source": [
    "news=pd.read_csv(r\"C:\\Users\\SAURABH UPADHYAY\\news_scrapping\\news_train.csv\")\n",
    "news.head(7)"
   ]
  },
  {
   "cell_type": "code",
   "execution_count": 3,
   "metadata": {},
   "outputs": [
    {
     "data": {
      "text/plain": [
       "(995, 3)"
      ]
     },
     "execution_count": 3,
     "metadata": {},
     "output_type": "execute_result"
    }
   ],
   "source": [
    "news.shape"
   ]
  },
  {
   "cell_type": "code",
   "execution_count": 4,
   "metadata": {},
   "outputs": [],
   "source": [
    "news.dropna(inplace=True)"
   ]
  },
  {
   "cell_type": "code",
   "execution_count": 5,
   "metadata": {},
   "outputs": [],
   "source": [
    "def preprocess(text):\n",
    "    processed=[]\n",
    "    lower=text.lower().replace(r'\\n',\" \").replace(r'\\s+', ' ').replace(r'\\d+(\\.\\d+)?', '') \n",
    "    \n",
    "    #removing \\n,large white space and leading_trailing white spaces and numbers by single white space\n",
    "    punct=lower.translate(str.maketrans('', '', string.punctuation))  #remove punctuation\n",
    "    digit=punct.translate(str.maketrans('', '', string.digits))       #remove digits\n",
    "    word= word_tokenize(digit, \"english\")\n",
    "    for i in word:\n",
    "        if i not in stopwords.words('english') and len(i)>3:\n",
    "            lemma=WordNetLemmatizer().lemmatize(i)\n",
    "            processed.append(lemma)\n",
    "    return processed"
   ]
  },
  {
   "cell_type": "code",
   "execution_count": 6,
   "metadata": {},
   "outputs": [
    {
     "name": "stdout",
     "output_type": "stream",
     "text": [
      "Original Document: \n",
      "['India', 'on', 'Tuesday', 'rejected', 'Pakistan’s', 'contention', 'that', 'the', 'Kashmir', 'issue', 'is', 'one', 'of', 'the', 'most', 'long-standing', 'disputes', 'at', 'the', 'United', 'Nations', '(UN),', 'saying', 'Islamabad', 'should', 'instead', 'focus', 'on', 'the', 'unfinished', 'task', 'of', 'tackling', 'terrorism.In', 'a', 'video', 'message', 'on', 'the', 'occasion', 'of', 'the', '75th', 'anniversary', 'of', 'the', 'world', 'body,', 'Pakistan', 'foreign', 'minister', 'Shah', 'Mahmood', 'Qureshi', 'lauded', 'the', 'UN’s', 'achievements', 'but', 'also', 'referred', 'to', '“failings', 'and', 'deficiencies”.“The', 'organisation', 'is', 'only', 'as', 'good', 'as', 'its', 'member', 'states', 'wish', 'it', 'to', 'be.', 'The', 'Jammu', '&', 'Kashmir', '(J&K)', 'and', 'Palestine', 'disputes', 'are', 'the', 'organisation’s', 'most', 'glaring', 'and', 'long-standing', 'disputes.', 'The', 'people', 'of', 'occupied', 'J&K', 'still', 'await', 'fulfilment', 'of', 'the', 'commitment', 'made', 'to', 'them', 'by', 'the', 'UN', 'to', 'grant', 'them', 'their', 'right', 'to', 'self-determination,”', 'he', 'said.“Today,', 'the', 'UN', 'is', 'derided', 'as', 'a', 'talk', 'shop.', 'Its', 'resolutions', 'and', 'decisions', 'are', 'flouted.', 'International', 'cooperation,', 'especially', 'in', 'the', 'Security', 'Council,', 'is', 'at', 'its', 'lowest,”', 'he', 'added.', '22nd', '', 'september', '', '2020']\n",
      "\n",
      "\n",
      "Tokenized and lemmatized document: \n",
      "['india', 'tuesday', 'rejected', 'pakistan', 'contention', 'kashmir', 'issue', 'longstanding', 'dispute', 'united', 'nation', 'saying', 'islamabad', 'instead', 'focus', 'unfinished', 'task', 'tackling', 'terrorismin', 'video', 'message', 'occasion', 'anniversary', 'world', 'body', 'pakistan', 'foreign', 'minister', 'shah', 'mahmood', 'qureshi', 'lauded', 'achievement', 'also', 'referred', 'failing', 'deficiency', 'organisation', 'good', 'member', 'state', 'wish', 'jammu', 'kashmir', 'palestine', 'dispute', 'organisation', 'glaring', 'longstanding', 'dispute', 'people', 'occupied', 'still', 'await', 'fulfilment', 'commitment', 'made', 'grant', 'right', 'selfdetermination', 'said', 'today', 'derided', 'talk', 'shop', 'resolution', 'decision', 'flouted', 'international', 'cooperation', 'especially', 'security', 'council', 'lowest', 'added', 'september']\n"
     ]
    }
   ],
   "source": [
    "text = \"India on Tuesday rejected Pakistan’s contention that the Kashmir issue is one of the most long-standing disputes at the United Nations (UN), saying Islamabad should instead focus on the unfinished task of tackling terrorism.\\\n",
    "\\\n",
    "In a video message on the occasion of the 75th anniversary of the world body, Pakistan foreign minister Shah Mahmood Qureshi lauded the UN’s achievements but also referred to “failings and deficiencies”.\\\n",
    "\\\n",
    "“The organisation is only as good as its member states wish it to be. The Jammu & Kashmir (J&K) and Palestine disputes are the organisation’s most glaring and long-standing disputes. The people of occupied J&K still await fulfilment of the commitment made to them by the UN to grant them their right to self-determination,” he said.\\\n",
    "\\\n",
    "“Today, the UN is derided as a talk shop. Its resolutions and decisions are flouted. International cooperation, especially in the Security Council, is at its lowest,” he added. 22nd  september  2020\"\n",
    "\n",
    "print(\"Original Document: \")\n",
    "processed=[]\n",
    "\n",
    "for word in text.split(' '):\n",
    "    processed.append(word)\n",
    "print(processed)\n",
    "\n",
    "print(\"\\n\\nTokenized and lemmatized document: \")\n",
    "print(preprocess(text))"
   ]
  },
  {
   "cell_type": "code",
   "execution_count": 7,
   "metadata": {},
   "outputs": [
    {
     "data": {
      "text/plain": [
       "895     Andre Russell’s batting position had been the...\n",
       "896     Chelsea manager Frank Lampard was impressed b...\n",
       "897     Luis Suarez highlighted his close friendship ...\n",
       "898     As KL Rahul butchered the Royal Challengers B...\n",
       "899     Will Mahendra Singh Dhoni bat up the order or...\n",
       "900     Dean Jones, a trend-setting one-day cricketer...\n",
       "901     Bosnian player Damir Dzumhur is planning to t...\n",
       "902     More than 10 English Football League and Nati...\n",
       "903     Kolkata Knight Riders got off to a disastrous...\n",
       "904     Kolkata Knight Riders captain Dinesh Karthik ...\n",
       "Name: desc, dtype: object"
      ]
     },
     "execution_count": 7,
     "metadata": {},
     "output_type": "execute_result"
    }
   ],
   "source": [
    "news.desc[-10:]"
   ]
  },
  {
   "cell_type": "code",
   "execution_count": 8,
   "metadata": {},
   "outputs": [
    {
     "name": "stdout",
     "output_type": "stream",
     "text": [
      "Wall time: 53.9 s\n"
     ]
    }
   ],
   "source": [
    "%%time\n",
    "processed_docs = []\n",
    "for i in news.desc:\n",
    "    processed_docs.append(preprocess(i))"
   ]
  },
  {
   "cell_type": "code",
   "execution_count": 9,
   "metadata": {},
   "outputs": [
    {
     "data": {
      "text/plain": [
       "815"
      ]
     },
     "execution_count": 9,
     "metadata": {},
     "output_type": "execute_result"
    }
   ],
   "source": [
    "len(processed_docs)"
   ]
  },
  {
   "cell_type": "code",
   "execution_count": 10,
   "metadata": {},
   "outputs": [
    {
     "name": "stdout",
     "output_type": "stream",
     "text": [
      "[['another', 'sign', 'situation', 'arising', 'covid', 'gone', 'control', 'kerala', 'state', 'thursday', 'diagnosed', 'person', 'pandemic', 'highest', 'number', 'test', 'positive', 'single', 'till', 'date', 'chief', 'minister', 'pinarayi', 'vijayan', 'said', 'person', 'died', 'state', 'last', 'hour', 'covid', 'briefing', 'medium', 'thursday', 'evening', 'vijayan', 'said', 'covid', 'patient', 'across', 'state', 'date', 'kerala', 'overtake', 'tamil', 'nadu', 'trend', 'according', 'medical', 'professional', 'state', 'tamil', 'nadu', 'succeeded', 'containing', 'number', 'patient', 'thursday', 'patient', 'across', 'state', 'first', 'time', 'kozhikode', 'topped', 'table', 'district', 'highest', 'number', 'patient', 'contracted', 'pandemic', 'social', 'contact', 'said', 'vijayan', 'thiruvananthapuram', 'district', 'covid', 'patient', 'thursday', 'evening', 'chief', 'minister', 'disclosed', 'person', 'tested', 'positive', 'thursday', 'person', 'contracted', 'disease', 'social', 'contact', 'abhijit', 'president', 'kerala', 'student', 'union', 'impersonated', 'undergoing', 'covid', 'detection', 'test', 'would', 'face', 'criminal', 'charge', 'kerala', 'epidemic', 'act', 'said', 'chief', 'minister', 'person', 'taken', 'custody', 'capital', 'city', 'video', 'filming', 'nude', 'scene', 'woman', 'observation', 'covid', 'monitoring', 'centre', 'chief', 'minister', 'vijayan', 'also', 'disclosed', 'state', 'never', 'experienced', 'grievous', 'situation', 'facing', 'right', 'irresponsible', 'attitude', 'opposition', 'party', 'leader', 'opposition', 'kerala', 'role', 'model', 'country', 'well', 'nation', 'check', 'spread', 'pandemic', 'demonstration', 'agitation', 'staged', 'opposition', 'party', 'caused', 'havoc', 'state', 'said', 'vijayan'], ['senior', 'officer', 'central', 'reserve', 'police', 'force', 'crpf', 'attained', 'martyrdom', 'terror', 'attack', 'central', 'kashmir', 'district', 'budgam', 'joint', 'team', 'security', 'force', 'eliminated', 'hardcore', 'terrorist', 'badr', 'terror', 'outift', 'separate', 'encounter', 'machama', 'area', 'south', 'kashmir', 'awantipora', 'thursday', 'meanwhile', 'another', 'operation', 'launched', 'security', 'force', 'sirhama', 'area', 'anantnag', 'late', 'thursday', 'evening', 'receiving', 'input', 'thepresence', 'terrorist', 'area', 'late', 'last', 'evening', 'block', 'development', 'council', 'chairman', 'khag', 'budgam', 'bhupinder', 'singh', 'shot', 'dead', 'unidentified', 'terrorist', 'budgam', 'district', 'mortal', 'remains', 'shifted', 'jammu', 'thursday', 'perform', 'last', 'rite', 'according', 'official', 'source', 'terrorist', 'targeted', 'crpf', 'officer', 'loot', 'service', 'weapon', 'kaisermulla', 'budgam', 'district', 'officer', 'identified', 'assistant', 'inspector', 'badoley', 'bnhailing', 'nagpur', 'area', 'maharashtra', 'according', 'local', 'police', 'authority', 'seriously', 'injuring', 'crpf', 'officer', 'terrorist', 'away', 'service', 'weapon', 'later', 'badoley', 'succumbed', 'injury', 'army', 'base', 'hospital', 'badami', 'bagh', 'second', 'operation', 'daythe', 'joint', 'team', 'security', 'force', 'eliminated', 'albadr', 'terrorist', 'machama', 'area', 'awantipora', 'according', 'police', 'spokesman', 'operation', 'launched', 'awantipora', 'police', 'crpf', 'said', 'area', 'search', 'operation', 'presence', 'terrorist', 'ascertained', 'given', 'opportunity', 'surrender', 'however', 'instead', 'terrorist', 'fired', 'indiscriminately', 'upon', 'joint', 'search', 'party', 'retaliated', 'leading', 'encounter', 'ensuing', 'encounter', 'terrorist', 'killed', 'body', 'retrieved', 'site', 'encounter', 'killed', 'terrorist', 'identified', 'irfanulhaq', 'village', 'gadikhal', 'charsoo', 'awantipora', 'associated', 'proscribed', 'terror', 'outfit', 'albadr', 'police', 'record', 'killed', 'terrorist', 'long', 'history', 'criminal', 'involvement', 'april', 'involved', 'grenade', 'lobbing', 'police', 'station', 'awantipora', 'case', 'vide', 'relevant', 'section', 'stand', 'registered', 'police', 'station', 'awantipora', 'subject', 'arrested', 'subsequently', 'sent', 'balwal', 'jail', 'jammu', 'earlier', 'involved', 'stone', 'peltingarson', 'case', 'police', 'station', 'awantipora', 'relevant', 'section', 'stand', 'chargesheeted', 'court', 'police', 'spokesman', 'said', 'release', 'april', 'irfanulhaq', 'secretly', 'involved', 'terror', 'activity', 'include', 'albadr', 'related', 'recruitment', 'awantipora', 'tral', 'area', 'important', 'motivator', 'influenced', 'young', 'mind', 'joining', 'terror', 'rank', 'awantiporatral', 'area']]\n"
     ]
    }
   ],
   "source": [
    "print(processed_docs[7:9])"
   ]
  },
  {
   "cell_type": "code",
   "execution_count": 11,
   "metadata": {},
   "outputs": [],
   "source": [
    "#bag of words on the data set\n",
    "dictionary = gensim.corpora.Dictionary(processed_docs)"
   ]
  },
  {
   "cell_type": "code",
   "execution_count": 12,
   "metadata": {},
   "outputs": [
    {
     "name": "stdout",
     "output_type": "stream",
     "text": [
      "Dictionary(17068 unique tokens: ['able', 'additional', 'ahead', 'airline', 'allowed']...)\n"
     ]
    }
   ],
   "source": [
    "print (dictionary)"
   ]
  },
  {
   "cell_type": "code",
   "execution_count": 13,
   "metadata": {},
   "outputs": [
    {
     "name": "stdout",
     "output_type": "stream",
     "text": [
      "0 able\n",
      "1 additional\n",
      "2 ahead\n",
      "3 airline\n",
      "4 allowed\n",
      "5 also\n",
      "6 amended\n",
      "7 aviation\n",
      "8 back\n",
      "9 baggage\n",
      "10 based\n",
      "11 carrier\n",
      "12 carry\n",
      "13 cent\n",
      "14 charge\n",
      "15 checkin\n",
      "16 civil\n",
      "17 concerned\n",
      "18 coronavirus\n",
      "19 currently\n",
      "20 decide\n",
      "21 diwali\n",
      "22 domestic\n",
      "23 feedbackinputs\n",
      "24 figure\n",
      "25 flight\n",
      "26 flying\n",
      "27 following\n",
      "28 freedom\n",
      "29 giving\n",
      "30 hand\n",
      "31 hardeep\n",
      "32 help\n",
      "33 increase\n",
      "34 india\n",
      "35 internal\n",
      "36 issuing\n",
      "37 limit\n",
      "38 limitation\n",
      "39 luggage\n",
      "40 matter\n"
     ]
    }
   ],
   "source": [
    "#Lets see if dictionary created succesfully by checking first 40 key value pairs\n",
    "count=0\n",
    "for k,v in dictionary.iteritems():\n",
    "    print (k, v)\n",
    "    count +=1\n",
    "    if count >40:\n",
    "        break"
   ]
  },
  {
   "cell_type": "code",
   "execution_count": 14,
   "metadata": {},
   "outputs": [],
   "source": [
    "#removing rare and repeatative words\n",
    "\n",
    "dictionary.filter_extremes(no_below=5,no_above=0.1,keep_n=38800)"
   ]
  },
  {
   "cell_type": "code",
   "execution_count": 15,
   "metadata": {},
   "outputs": [
    {
     "name": "stdout",
     "output_type": "stream",
     "text": [
      "Dictionary(3589 unique tokens: ['able', 'additional', 'ahead', 'airline', 'allowed']...)\n"
     ]
    }
   ],
   "source": [
    "print (dictionary)"
   ]
  },
  {
   "cell_type": "code",
   "execution_count": 16,
   "metadata": {},
   "outputs": [],
   "source": [
    "bow_corpus = [dictionary.doc2bow(doc) for doc in processed_docs]"
   ]
  },
  {
   "cell_type": "code",
   "execution_count": 17,
   "metadata": {},
   "outputs": [
    {
     "data": {
      "text/plain": [
       "[(0, 1),\n",
       " (6, 1),\n",
       " (66, 1),\n",
       " (130, 3),\n",
       " (156, 1),\n",
       " (159, 2),\n",
       " (178, 1),\n",
       " (188, 1),\n",
       " (197, 1),\n",
       " (227, 1),\n",
       " (234, 1),\n",
       " (235, 2),\n",
       " (236, 1),\n",
       " (237, 1),\n",
       " (238, 1),\n",
       " (239, 2),\n",
       " (240, 3),\n",
       " (241, 2),\n",
       " (242, 1),\n",
       " (243, 1),\n",
       " (244, 1),\n",
       " (245, 5),\n",
       " (246, 1),\n",
       " (247, 1),\n",
       " (248, 1),\n",
       " (249, 1),\n",
       " (250, 2),\n",
       " (251, 2),\n",
       " (252, 1),\n",
       " (253, 1),\n",
       " (254, 1),\n",
       " (255, 1),\n",
       " (256, 4),\n",
       " (257, 1),\n",
       " (258, 1),\n",
       " (259, 1),\n",
       " (260, 1),\n",
       " (261, 1),\n",
       " (262, 1),\n",
       " (263, 1),\n",
       " (264, 3),\n",
       " (265, 1),\n",
       " (266, 2),\n",
       " (267, 1),\n",
       " (268, 1),\n",
       " (269, 1),\n",
       " (270, 5),\n",
       " (271, 1),\n",
       " (272, 1),\n",
       " (273, 1),\n",
       " (274, 1),\n",
       " (275, 1),\n",
       " (276, 1),\n",
       " (277, 1),\n",
       " (278, 2),\n",
       " (279, 2),\n",
       " (280, 1),\n",
       " (281, 1),\n",
       " (282, 1),\n",
       " (283, 3),\n",
       " (284, 1),\n",
       " (285, 1),\n",
       " (286, 1),\n",
       " (287, 1)]"
      ]
     },
     "execution_count": 17,
     "metadata": {},
     "output_type": "execute_result"
    }
   ],
   "source": [
    "bow_corpus[3]"
   ]
  },
  {
   "cell_type": "code",
   "execution_count": 18,
   "metadata": {},
   "outputs": [
    {
     "name": "stdout",
     "output_type": "stream",
     "text": [
      "Word 52 (\"stated\") appears 1 time.\n",
      "Word 85 (\"development\") appears 1 time.\n",
      "Word 88 (\"drug\") appears 12 time.\n",
      "Word 104 (\"full\") appears 1 time.\n",
      "Word 127 (\"management\") appears 4 time.\n",
      "Word 135 (\"needed\") appears 1 time.\n",
      "Word 188 (\"allegation\") appears 1 time.\n",
      "Word 213 (\"later\") appears 1 time.\n",
      "Word 216 (\"office\") appears 1 time.\n",
      "Word 224 (\"registered\") appears 1 time.\n",
      "Word 228 (\"soon\") appears 1 time.\n",
      "Word 249 (\"form\") appears 1 time.\n",
      "Word 253 (\"ground\") appears 4 time.\n",
      "Word 271 (\"saying\") appears 2 time.\n",
      "Word 273 (\"small\") appears 3 time.\n",
      "Word 301 (\"plant\") appears 1 time.\n",
      "Word 315 (\"basis\") appears 2 time.\n",
      "Word 316 (\"bench\") appears 1 time.\n",
      "Word 322 (\"commercial\") appears 2 time.\n",
      "Word 324 (\"control\") appears 1 time.\n",
      "Word 332 (\"filed\") appears 2 time.\n",
      "Word 338 (\"issued\") appears 1 time.\n",
      "Word 341 (\"justice\") appears 1 time.\n",
      "Word 373 (\"accused\") appears 3 time.\n",
      "Word 375 (\"advocate\") appears 1 time.\n",
      "Word 377 (\"attempt\") appears 1 time.\n",
      "Word 394 (\"legal\") appears 1 time.\n",
      "Word 401 (\"name\") appears 2 time.\n",
      "Word 404 (\"quantity\") appears 6 time.\n",
      "Word 406 (\"related\") appears 2 time.\n",
      "Word 410 (\"seized\") appears 1 time.\n",
      "Word 428 (\"criminal\") appears 1 time.\n",
      "Word 429 (\"custody\") appears 1 time.\n",
      "Word 444 (\"never\") appears 1 time.\n",
      "Word 465 (\"arrested\") appears 5 time.\n",
      "Word 467 (\"away\") appears 1 time.\n",
      "Word 495 (\"meanwhile\") appears 2 time.\n",
      "Word 506 (\"release\") appears 1 time.\n",
      "Word 511 (\"section\") appears 6 time.\n",
      "Word 518 (\"source\") appears 1 time.\n",
      "Word 531 (\"agency\") appears 5 time.\n",
      "Word 532 (\"although\") appears 1 time.\n",
      "Word 544 (\"cited\") appears 3 time.\n",
      "Word 569 (\"others\") appears 2 time.\n",
      "Word 574 (\"present\") appears 1 time.\n",
      "Word 576 (\"question\") appears 1 time.\n",
      "Word 578 (\"rejected\") appears 1 time.\n",
      "Word 584 (\"session\") appears 1 time.\n",
      "Word 593 (\"though\") appears 1 time.\n",
      "Word 608 (\"consecutive\") appears 1 time.\n",
      "Word 609 (\"death\") appears 2 time.\n",
      "Word 627 (\"lower\") appears 1 time.\n",
      "Word 630 (\"mumbai\") appears 1 time.\n",
      "Word 636 (\"pune\") appears 1 time.\n",
      "Word 643 (\"remained\") appears 1 time.\n",
      "Word 649 (\"similarly\") appears 1 time.\n",
      "Word 662 (\"went\") appears 1 time.\n",
      "Word 686 (\"fact\") appears 1 time.\n",
      "Word 693 (\"investigation\") appears 3 time.\n",
      "Word 695 (\"life\") appears 1 time.\n",
      "Word 700 (\"news\") appears 1 time.\n",
      "Word 706 (\"probe\") appears 2 time.\n",
      "Word 716 (\"special\") appears 2 time.\n",
      "Word 773 (\"booked\") appears 1 time.\n",
      "Word 778 (\"hearing\") appears 1 time.\n",
      "Word 783 (\"plea\") appears 4 time.\n",
      "Word 785 (\"relating\") appears 1 time.\n",
      "Word 797 (\"claimed\") appears 1 time.\n",
      "Word 806 (\"near\") appears 1 time.\n",
      "Word 815 (\"used\") appears 1 time.\n",
      "Word 822 (\"available\") appears 1 time.\n",
      "Word 862 (\"sell\") appears 1 time.\n",
      "Word 866 (\"turn\") appears 1 time.\n",
      "Word 878 (\"citizen\") appears 1 time.\n",
      "Word 918 (\"knowledge\") appears 1 time.\n",
      "Word 932 (\"substance\") appears 4 time.\n",
      "Word 963 (\"questioned\") appears 1 time.\n",
      "Word 990 (\"town\") appears 1 time.\n",
      "Word 1019 (\"read\") appears 1 time.\n",
      "Word 1021 (\"relation\") appears 2 time.\n",
      "Word 1034 (\"accept\") appears 1 time.\n",
      "Word 1035 (\"actress\") appears 6 time.\n",
      "Word 1036 (\"amit\") appears 1 time.\n",
      "Word 1037 (\"applicant\") appears 2 time.\n",
      "Word 1038 (\"application\") appears 2 time.\n",
      "Word 1039 (\"apply\") appears 1 time.\n",
      "Word 1040 (\"baseless\") appears 1 time.\n",
      "Word 1041 (\"bollywood\") appears 1 time.\n",
      "Word 1042 (\"bringing\") appears 1 time.\n",
      "Word 1043 (\"brother\") appears 2 time.\n",
      "Word 1044 (\"bureau\") appears 1 time.\n",
      "Word 1045 (\"chart\") appears 1 time.\n",
      "Word 1046 (\"chat\") appears 3 time.\n",
      "Word 1047 (\"circumstance\") appears 1 time.\n",
      "Word 1048 (\"client\") appears 1 time.\n",
      "Word 1049 (\"coming\") appears 2 time.\n",
      "Word 1050 (\"confirm\") appears 1 time.\n",
      "Word 1051 (\"confirmed\") appears 1 time.\n",
      "Word 1052 (\"connection\") appears 4 time.\n",
      "Word 1053 (\"conspiracy\") appears 1 time.\n",
      "Word 1054 (\"consumed\") appears 1 time.\n",
      "Word 1055 (\"contraband\") appears 1 time.\n",
      "Word 1056 (\"counsel\") appears 1 time.\n",
      "Word 1057 (\"dealing\") appears 1 time.\n",
      "Word 1058 (\"deny\") appears 1 time.\n",
      "Word 1059 (\"despite\") appears 1 time.\n",
      "Word 1060 (\"electronic\") appears 1 time.\n",
      "Word 1061 (\"extended\") appears 1 time.\n",
      "Word 1062 (\"extent\") appears 1 time.\n",
      "Word 1063 (\"farm\") appears 1 time.\n",
      "Word 1064 (\"fashion\") appears 1 time.\n",
      "Word 1065 (\"film\") appears 1 time.\n",
      "Word 1066 (\"grant\") appears 1 time.\n",
      "Word 1067 (\"greater\") appears 1 time.\n",
      "Word 1068 (\"hear\") appears 2 time.\n",
      "Word 1069 (\"import\") appears 1 time.\n",
      "Word 1070 (\"intention\") appears 1 time.\n",
      "Word 1071 (\"investigator\") appears 1 time.\n",
      "Word 1072 (\"involves\") appears 2 time.\n",
      "Word 1073 (\"involving\") appears 1 time.\n",
      "Word 1074 (\"judicial\") appears 1 time.\n",
      "Word 1075 (\"khan\") appears 1 time.\n",
      "Word 1076 (\"lesser\") appears 1 time.\n",
      "Word 1077 (\"manager\") appears 5 time.\n",
      "Word 1078 (\"nature\") appears 1 time.\n",
      "Word 1079 (\"october\") appears 1 time.\n",
      "Word 1080 (\"offence\") appears 3 time.\n",
      "Word 1081 (\"offered\") appears 1 time.\n",
      "Word 1082 (\"pertaining\") appears 1 time.\n",
      "Word 1083 (\"prakash\") appears 2 time.\n",
      "Word 1084 (\"produce\") appears 1 time.\n",
      "Word 1085 (\"purchase\") appears 1 time.\n",
      "Word 1086 (\"pursue\") appears 1 time.\n",
      "Word 1087 (\"questioning\") appears 6 time.\n",
      "Word 1088 (\"rajput\") appears 2 time.\n",
      "Word 1089 (\"recorded\") appears 1 time.\n",
      "Word 1090 (\"released\") appears 1 time.\n",
      "Word 1091 (\"reportedly\") appears 4 time.\n",
      "Word 1092 (\"restaurant\") appears 1 time.\n",
      "Word 1093 (\"scope\") appears 1 time.\n",
      "Word 1094 (\"seek\") appears 1 time.\n",
      "Word 1095 (\"seizure\") appears 1 time.\n",
      "Word 1096 (\"shooting\") appears 1 time.\n",
      "Word 1097 (\"standing\") appears 1 time.\n",
      "Word 1098 (\"strictly\") appears 1 time.\n",
      "Word 1099 (\"strongly\") appears 1 time.\n",
      "Word 1100 (\"supporter\") appears 1 time.\n",
      "Word 1101 (\"sushant\") appears 7 time.\n",
      "Word 1102 (\"talent\") appears 5 time.\n",
      "Word 1103 (\"tell\") appears 1 time.\n",
      "Word 1104 (\"thanks\") appears 1 time.\n",
      "Word 1105 (\"thrown\") appears 1 time.\n",
      "Word 1106 (\"thus\") appears 1 time.\n",
      "Word 1107 (\"traffic\") appears 2 time.\n",
      "Word 1108 (\"transport\") appears 1 time.\n",
      "Word 1109 (\"whatsapp\") appears 3 time.\n",
      "Word 1110 (\"whose\") appears 1 time.\n",
      "Word 1111 (\"word\") appears 2 time.\n"
     ]
    }
   ],
   "source": [
    "#preview \n",
    "document_num = 21\n",
    "bow_doc_x = bow_corpus[document_num]\n",
    "\n",
    "for i in range(len(bow_doc_x)):\n",
    "    print(\"Word {} (\\\"{}\\\") appears {} time.\".format(bow_doc_x[i][0], \n",
    "                                                     dictionary[bow_doc_x[i][0]],\n",
    "                                                     bow_doc_x[i][1]))"
   ]
  },
  {
   "cell_type": "code",
   "execution_count": 19,
   "metadata": {},
   "outputs": [],
   "source": [
    "lda_model =  gensim.models.LdaMulticore(bow_corpus, \n",
    "                                   num_topics = 21, \n",
    "                                   id2word = dictionary,                                    \n",
    "                                   passes = 10,\n",
    "                                   workers = 4)"
   ]
  },
  {
   "cell_type": "code",
   "execution_count": 20,
   "metadata": {},
   "outputs": [
    {
     "name": "stdout",
     "output_type": "stream",
     "text": [
      "Topic: 13 \n",
      "Words: 0.011*\"spectrum\" + 0.009*\"due\" + 0.008*\"deal\" + 0.008*\"insolvency\" + 0.007*\"security\" + 0.007*\"rcom\" + 0.007*\"election\" + 0.007*\"peace\" + 0.007*\"israel\" + 0.006*\"trump\"\n",
      "\n",
      "\n",
      "Topic: 14 \n",
      "Words: 0.019*\"inflation\" + 0.015*\"retail\" + 0.013*\"july\" + 0.011*\"unit\" + 0.009*\"price\" + 0.009*\"rate\" + 0.008*\"demand\" + 0.007*\"industry\" + 0.007*\"reliance\" + 0.006*\"stake\"\n",
      "\n",
      "\n",
      "Topic: 11 \n",
      "Words: 0.015*\"steel\" + 0.015*\"million\" + 0.012*\"tata\" + 0.012*\"quarter\" + 0.009*\"global\" + 0.009*\"china\" + 0.006*\"economic\" + 0.006*\"financial\" + 0.006*\"growth\" + 0.006*\"fiscal\"\n",
      "\n",
      "\n",
      "Topic: 8 \n",
      "Words: 0.032*\"farmer\" + 0.026*\"bill\" + 0.012*\"congress\" + 0.010*\"punjab\" + 0.008*\"support\" + 0.008*\"farm\" + 0.006*\"sabha\" + 0.006*\"protest\" + 0.006*\"price\" + 0.006*\"passed\"\n",
      "\n",
      "\n",
      "Topic: 4 \n",
      "Words: 0.017*\"game\" + 0.012*\"cricket\" + 0.012*\"match\" + 0.012*\"test\" + 0.010*\"australia\" + 0.009*\"ball\" + 0.009*\"england\" + 0.008*\"played\" + 0.008*\"run\" + 0.008*\"series\"\n",
      "\n",
      "\n",
      "Topic: 9 \n",
      "Words: 0.009*\"lockdown\" + 0.006*\"administration\" + 0.006*\"norm\" + 0.006*\"management\" + 0.006*\"human\" + 0.006*\"china\" + 0.006*\"social\" + 0.005*\"shop\" + 0.005*\"zone\" + 0.005*\"distancing\"\n",
      "\n",
      "\n",
      "Topic: 5 \n",
      "Words: 0.011*\"taxpayer\" + 0.010*\"kumar\" + 0.008*\"income\" + 0.007*\"officer\" + 0.006*\"bus\" + 0.006*\"bench\" + 0.006*\"family\" + 0.006*\"refund\" + 0.006*\"issued\" + 0.005*\"fair\"\n",
      "\n",
      "\n",
      "Topic: 12 \n",
      "Words: 0.020*\"death\" + 0.018*\"patient\" + 0.013*\"reported\" + 0.012*\"recovery\" + 0.010*\"infection\" + 0.009*\"hospital\" + 0.008*\"active\" + 0.007*\"mask\" + 0.007*\"testing\" + 0.007*\"rate\"\n",
      "\n",
      "\n",
      "Topic: 2 \n",
      "Words: 0.017*\"investment\" + 0.016*\"railway\" + 0.014*\"biden\" + 0.012*\"fund\" + 0.010*\"entity\" + 0.009*\"train\" + 0.008*\"investor\" + 0.007*\"network\" + 0.007*\"stake\" + 0.006*\"share\"\n",
      "\n",
      "\n",
      "Topic: 18 \n",
      "Words: 0.018*\"league\" + 0.014*\"goal\" + 0.011*\"season\" + 0.010*\"club\" + 0.009*\"minute\" + 0.006*\"game\" + 0.006*\"premier\" + 0.005*\"harris\" + 0.005*\"rainfall\" + 0.005*\"liverpool\"\n",
      "\n",
      "\n",
      "Topic: 16 \n",
      "Words: 0.015*\"farmer\" + 0.010*\"road\" + 0.008*\"hospital\" + 0.008*\"vehicle\" + 0.007*\"booth\" + 0.007*\"scheme\" + 0.007*\"resident\" + 0.006*\"bridge\" + 0.006*\"nidhi\" + 0.006*\"mumbai\"\n",
      "\n",
      "\n",
      "Topic: 1 \n",
      "Words: 0.018*\"open\" + 0.011*\"match\" + 0.010*\"tournament\" + 0.007*\"seed\" + 0.007*\"play\" + 0.007*\"round\" + 0.007*\"djokovic\" + 0.006*\"really\" + 0.006*\"yearold\" + 0.006*\"grand\"\n",
      "\n",
      "\n",
      "Topic: 7 \n",
      "Words: 0.009*\"passenger\" + 0.008*\"worker\" + 0.008*\"hospital\" + 0.007*\"child\" + 0.006*\"quarantine\" + 0.006*\"road\" + 0.006*\"migrant\" + 0.006*\"medical\" + 0.006*\"calcutta\" + 0.005*\"railway\"\n",
      "\n",
      "\n",
      "Topic: 0 \n",
      "Words: 0.015*\"capital\" + 0.011*\"loan\" + 0.011*\"lender\" + 0.010*\"delhi\" + 0.009*\"restructuring\" + 0.006*\"sector\" + 0.006*\"industry\" + 0.006*\"platform\" + 0.006*\"asset\" + 0.006*\"credit\"\n",
      "\n",
      "\n",
      "Topic: 15 \n",
      "Words: 0.012*\"drug\" + 0.011*\"prime\" + 0.008*\"trial\" + 0.008*\"vaccine\" + 0.006*\"modi\" + 0.006*\"shah\" + 0.005*\"border\" + 0.005*\"message\" + 0.004*\"force\" + 0.004*\"section\"\n",
      "\n",
      "\n",
      "Topic: 6 \n",
      "Words: 0.013*\"price\" + 0.008*\"williams\" + 0.008*\"land\" + 0.008*\"muslim\" + 0.008*\"osaka\" + 0.005*\"post\" + 0.004*\"worker\" + 0.004*\"pironkova\" + 0.004*\"share\" + 0.004*\"minority\"\n",
      "\n",
      "\n",
      "Topic: 3 \n",
      "Words: 0.009*\"price\" + 0.008*\"million\" + 0.008*\"loss\" + 0.007*\"sale\" + 0.007*\"demand\" + 0.006*\"fuel\" + 0.006*\"july\" + 0.006*\"field\" + 0.006*\"april\" + 0.006*\"petroleum\"\n",
      "\n",
      "\n",
      "Topic: 17 \n",
      "Words: 0.014*\"equity\" + 0.013*\"sensex\" + 0.012*\"global\" + 0.011*\"share\" + 0.011*\"hdfc\" + 0.010*\"benchmark\" + 0.009*\"trading\" + 0.008*\"lower\" + 0.008*\"nifty\" + 0.008*\"ended\"\n",
      "\n",
      "\n",
      "Topic: 10 \n",
      "Words: 0.029*\"student\" + 0.022*\"school\" + 0.011*\"university\" + 0.010*\"college\" + 0.008*\"temple\" + 0.008*\"teacher\" + 0.008*\"fire\" + 0.006*\"class\" + 0.006*\"medical\" + 0.006*\"citizenship\"\n",
      "\n",
      "\n",
      "Topic: 19 \n",
      "Words: 0.032*\"trump\" + 0.013*\"american\" + 0.013*\"china\" + 0.009*\"donald\" + 0.009*\"taiwan\" + 0.006*\"election\" + 0.006*\"airport\" + 0.006*\"university\" + 0.006*\"nation\" + 0.005*\"policy\"\n",
      "\n",
      "\n"
     ]
    }
   ],
   "source": [
    "for idx, topic in lda_model.print_topics():\n",
    "    print(\"Topic: {} \\nWords: {}\".format(idx, topic))\n",
    "    print(\"\\n\")"
   ]
  },
  {
   "cell_type": "code",
   "execution_count": 21,
   "metadata": {},
   "outputs": [],
   "source": [
    "document=\"US President Donald Trump has threatened to cut off TikTok if the popular Chinese video sharing app's tentative\\\n",
    "deal with two American companies Walmart and Oracle does not go through.Trump has for weeks threatened to ban TikTok, which\\\n",
    "is owned by China's ByteDance, on national security grounds unless an American company takes control of its US operations.\\\n",
    "TikTok has roughly 100 million users in the US, and Trump says the app gives China access to the personal data of Americans.\\\n",
    "Trump's latest remark came a day after he announced a possible deal between Oracle and Walmart to share the US operations of\\\n",
    "TikTok, which was placed on a ban list due to security concerns.That's working its way through. I've given a preliminary okay,\\\n",
    "the president told reporters at the White House on Monday.They will work -- they're two great companies -- Oracle and Walmart.\\\n",
    "Oracle CEO Larry Ellison is a great genius at that kind of thing. The technology is incredible.So if we can save it, we'll\\\n",
    "save it. And if we can't, we'll cut it off. But they have (a) preliminary (deal). We'll see what they can do. We have to \\\n",
    "have total security. That's the only thing -- very important. We have to have total security, Trump said in response to a \\\n",
    "question.Meanwhile, House Minority Leader Kevin McCarthy praised Trump for his move on TikTok.He is standing up and keeping\\\n",
    "us safer by not allowing China to spy on Americans through their devices of TikTok and others, keeping the ability of Americans\\\n",
    "to use it, but keeping you safe, he told Fox News.White House Press Secretary Kayleigh McEnany said that the US is working \\\n",
    "through the deal.But rest assured that this president is putting the safety of the American people first. The Chinese Communist\\\n",
    "Party having access to the data of millions of Americans is not a tenable situation. But I'll leave it to him to announce \\\n",
    "exactly what that deal looks like, she said.The proposed deal of TikTok with Oracle and Walmart mandates the creation of a \\\n",
    "new American company -- incorporated in Texas -- and the prospect of 25,000 new jobs. Further, TikTok will give USD 5 billion\\\n",
    "to fund the education of American youths.The US last week issued orders to ban popular Chinese social media apps - TikTok and\\\n",
    "WeChat - to safeguard national security. The ban on downloading TikTok, originally scheduled to take effect on Sunday, was \\\n",
    "postponed to September 27, according to the US Department of Commerce.\""
   ]
  },
  {
   "cell_type": "code",
   "execution_count": 22,
   "metadata": {},
   "outputs": [
    {
     "name": "stdout",
     "output_type": "stream",
     "text": [
      "Score: 0.1273292601108551\t Topic: 0.017*\"investment\" + 0.016*\"railway\" + 0.014*\"biden\" + 0.012*\"fund\" + 0.010*\"entity\" + 0.009*\"train\" + 0.008*\"investor\" + 0.007*\"network\" + 0.007*\"stake\" + 0.006*\"share\" + 0.006*\"private\" + 0.006*\"gold\" + 0.006*\"asset\" + 0.006*\"system\" + 0.005*\"foreign\" + 0.005*\"payment\" + 0.005*\"project\" + 0.005*\"trump\" + 0.005*\"infrastructure\" + 0.005*\"management\" + 0.004*\"passenger\" + 0.004*\"equity\" + 0.004*\"finance\" + 0.004*\"route\" + 0.004*\"campaign\" + 0.004*\"class\" + 0.004*\"presidential\" + 0.004*\"sale\" + 0.004*\"risk\" + 0.004*\"chinese\"\t\n",
      "\n",
      "Score: 0.0759095698595047\t Topic: 0.017*\"game\" + 0.012*\"cricket\" + 0.012*\"match\" + 0.012*\"test\" + 0.010*\"australia\" + 0.009*\"ball\" + 0.009*\"england\" + 0.008*\"played\" + 0.008*\"run\" + 0.008*\"series\" + 0.008*\"batsman\" + 0.007*\"wicket\" + 0.006*\"mumbai\" + 0.006*\"training\" + 0.006*\"tournament\" + 0.006*\"captain\" + 0.005*\"think\" + 0.005*\"thing\" + 0.005*\"season\" + 0.005*\"over\" + 0.005*\"batting\" + 0.005*\"league\" + 0.005*\"bowler\" + 0.005*\"allrounder\" + 0.005*\"yearold\" + 0.004*\"playing\" + 0.004*\"side\" + 0.004*\"skipper\" + 0.004*\"start\" + 0.004*\"rohit\"\t\n",
      "\n",
      "Score: 0.04478130489587784\t Topic: 0.032*\"farmer\" + 0.026*\"bill\" + 0.012*\"congress\" + 0.010*\"punjab\" + 0.008*\"support\" + 0.008*\"farm\" + 0.006*\"sabha\" + 0.006*\"protest\" + 0.006*\"price\" + 0.006*\"passed\" + 0.005*\"modi\" + 0.005*\"agriculture\" + 0.005*\"worker\" + 0.005*\"opposition\" + 0.005*\"rahul\" + 0.004*\"prime\" + 0.004*\"produce\" + 0.004*\"political\" + 0.004*\"committee\" + 0.004*\"trade\" + 0.004*\"jharkhand\" + 0.003*\"narendra\" + 0.003*\"kisan\" + 0.003*\"central\" + 0.003*\"food\" + 0.003*\"bandh\" + 0.003*\"vote\" + 0.003*\"amendment\" + 0.003*\"sector\" + 0.003*\"kohli\"\t\n",
      "\n",
      "Score: 0.11456810683012009\t Topic: 0.015*\"steel\" + 0.015*\"million\" + 0.012*\"tata\" + 0.012*\"quarter\" + 0.009*\"global\" + 0.009*\"china\" + 0.006*\"economic\" + 0.006*\"financial\" + 0.006*\"growth\" + 0.006*\"fiscal\" + 0.005*\"internet\" + 0.005*\"economy\" + 0.005*\"research\" + 0.005*\"cash\" + 0.005*\"sector\" + 0.004*\"lockdown\" + 0.004*\"support\" + 0.004*\"test\" + 0.004*\"operation\" + 0.004*\"foreign\" + 0.004*\"analyst\" + 0.004*\"current\" + 0.004*\"chinese\" + 0.004*\"condition\" + 0.004*\"visit\" + 0.003*\"russian\" + 0.003*\"wang\" + 0.003*\"announced\" + 0.003*\"employee\" + 0.003*\"region\"\t\n",
      "\n",
      "Score: 0.27870264649391174\t Topic: 0.011*\"spectrum\" + 0.009*\"due\" + 0.008*\"deal\" + 0.008*\"insolvency\" + 0.007*\"security\" + 0.007*\"rcom\" + 0.007*\"election\" + 0.007*\"peace\" + 0.007*\"israel\" + 0.006*\"trump\" + 0.006*\"saudi\" + 0.006*\"opposition\" + 0.005*\"council\" + 0.005*\"creditor\" + 0.005*\"telecom\" + 0.005*\"policy\" + 0.005*\"afghanistan\" + 0.005*\"post\" + 0.005*\"employment\" + 0.005*\"woman\" + 0.005*\"bill\" + 0.004*\"user\" + 0.004*\"code\" + 0.004*\"sharing\" + 0.004*\"proceeding\" + 0.004*\"agreement\" + 0.004*\"united\" + 0.004*\"arabia\" + 0.003*\"administration\" + 0.003*\"accused\"\t\n",
      "\n",
      "Score: 0.05440209060907364\t Topic: 0.012*\"drug\" + 0.011*\"prime\" + 0.008*\"trial\" + 0.008*\"vaccine\" + 0.006*\"modi\" + 0.006*\"shah\" + 0.005*\"border\" + 0.005*\"message\" + 0.004*\"force\" + 0.004*\"section\" + 0.004*\"agency\" + 0.004*\"disease\" + 0.004*\"family\" + 0.004*\"international\" + 0.004*\"sikkim\" + 0.004*\"sushant\" + 0.004*\"parliament\" + 0.004*\"clinical\" + 0.004*\"every\" + 0.004*\"narendra\" + 0.004*\"customer\" + 0.004*\"control\" + 0.003*\"others\" + 0.003*\"investigation\" + 0.003*\"human\" + 0.003*\"person\" + 0.003*\"marriage\" + 0.003*\"situation\" + 0.003*\"management\" + 0.003*\"actress\"\t\n",
      "\n",
      "Score: 0.2980727255344391\t Topic: 0.032*\"trump\" + 0.013*\"american\" + 0.013*\"china\" + 0.009*\"donald\" + 0.009*\"taiwan\" + 0.006*\"election\" + 0.006*\"airport\" + 0.006*\"university\" + 0.006*\"nation\" + 0.005*\"policy\" + 0.005*\"belarus\" + 0.005*\"visit\" + 0.005*\"operation\" + 0.005*\"beijing\" + 0.005*\"ministry\" + 0.005*\"united\" + 0.005*\"military\" + 0.004*\"bill\" + 0.004*\"news\" + 0.004*\"plan\" + 0.004*\"republican\" + 0.004*\"education\" + 0.004*\"press\" + 0.004*\"white\" + 0.004*\"nuclear\" + 0.004*\"protest\" + 0.004*\"south\" + 0.004*\"protester\" + 0.004*\"russia\" + 0.004*\"travel\"\t\n",
      "\n"
     ]
    }
   ],
   "source": [
    "trail_bow = dictionary.doc2bow(preprocess(document))\n",
    "\n",
    "for index, score in sorted(lda_model[trail_bow]):\n",
    "    print(\"Score: {}\\t Topic: {}\\t\\n\".format(score, lda_model.print_topic(index, 30)))"
   ]
  },
  {
   "cell_type": "code",
   "execution_count": 23,
   "metadata": {},
   "outputs": [
    {
     "data": {
      "text/html": [
       "<div>\n",
       "<style scoped>\n",
       "    .dataframe tbody tr th:only-of-type {\n",
       "        vertical-align: middle;\n",
       "    }\n",
       "\n",
       "    .dataframe tbody tr th {\n",
       "        vertical-align: top;\n",
       "    }\n",
       "\n",
       "    .dataframe thead th {\n",
       "        text-align: right;\n",
       "    }\n",
       "</style>\n",
       "<table border=\"1\" class=\"dataframe\">\n",
       "  <thead>\n",
       "    <tr style=\"text-align: right;\">\n",
       "      <th></th>\n",
       "      <th>head</th>\n",
       "      <th>desc</th>\n",
       "      <th>topic</th>\n",
       "    </tr>\n",
       "  </thead>\n",
       "  <tbody>\n",
       "    <tr>\n",
       "      <th>0</th>\n",
       "      <td>UP farmers join nationwide bandh over 3 farm b...</td>\n",
       "      <td>Farmers in Uttar Pradesh, like their counterpa...</td>\n",
       "      <td>farmbill</td>\n",
       "    </tr>\n",
       "    <tr>\n",
       "      <th>1</th>\n",
       "      <td>Delhi deputy CM Manish Sisodia hospitalised fo...</td>\n",
       "      <td>A day after he was admitted to the hospital, D...</td>\n",
       "      <td>corona</td>\n",
       "    </tr>\n",
       "    <tr>\n",
       "      <th>2</th>\n",
       "      <td>Kangana Ranaut Tears Up as Bombay HC Raps BMC ...</td>\n",
       "      <td>kangana Ranaut has thanked the Bombay High Cou...</td>\n",
       "      <td>bollywood</td>\n",
       "    </tr>\n",
       "    <tr>\n",
       "      <th>3</th>\n",
       "      <td>US Election Biden steady in national polls Tru...</td>\n",
       "      <td>With little over a month to go for the US pres...</td>\n",
       "      <td>us election</td>\n",
       "    </tr>\n",
       "  </tbody>\n",
       "</table>\n",
       "</div>"
      ],
      "text/plain": [
       "                                                head  \\\n",
       "0  UP farmers join nationwide bandh over 3 farm b...   \n",
       "1  Delhi deputy CM Manish Sisodia hospitalised fo...   \n",
       "2  Kangana Ranaut Tears Up as Bombay HC Raps BMC ...   \n",
       "3  US Election Biden steady in national polls Tru...   \n",
       "\n",
       "                                                desc        topic  \n",
       "0  Farmers in Uttar Pradesh, like their counterpa...     farmbill  \n",
       "1  A day after he was admitted to the hospital, D...       corona  \n",
       "2  kangana Ranaut has thanked the Bombay High Cou...    bollywood  \n",
       "3  With little over a month to go for the US pres...  us election  "
      ]
     },
     "execution_count": 23,
     "metadata": {},
     "output_type": "execute_result"
    }
   ],
   "source": [
    "test=pd.read_csv(r\"C:\\Users\\SAURABH UPADHYAY\\news_scrapping\\news_test.csv\")\n",
    "test.head(6)"
   ]
  },
  {
   "cell_type": "code",
   "execution_count": 24,
   "metadata": {},
   "outputs": [],
   "source": [
    "test.dropna(inplace=True)"
   ]
  },
  {
   "cell_type": "code",
   "execution_count": 25,
   "metadata": {},
   "outputs": [
    {
     "data": {
      "text/plain": [
       "0    Farmers in Uttar Pradesh, like their counterpa...\n",
       "1    A day after he was admitted to the hospital, D...\n",
       "2    kangana Ranaut has thanked the Bombay High Cou...\n",
       "3    With little over a month to go for the US pres...\n",
       "Name: desc, dtype: object"
      ]
     },
     "execution_count": 25,
     "metadata": {},
     "output_type": "execute_result"
    }
   ],
   "source": [
    "test.desc[:7]"
   ]
  },
  {
   "cell_type": "code",
   "execution_count": 26,
   "metadata": {},
   "outputs": [
    {
     "name": "stdout",
     "output_type": "stream",
     "text": [
      "1\n"
     ]
    }
   ],
   "source": [
    "#implementing modelling on an unseen test document\n",
    "import random\n",
    "\n",
    "ran_no= random.randint(0,len(test.desc))\n",
    "print(ran_no)"
   ]
  },
  {
   "cell_type": "code",
   "execution_count": 27,
   "metadata": {},
   "outputs": [
    {
     "data": {
      "text/plain": [
       "'A day after he was admitted to the hospital, Delhi deputy chief minister Manish Sisodia on Thursday was diagnosed dengue along with covid-19. Officials said that Sisodia’s platelet count was falling. He had been admitted to the hospital after complaints of breathlessness. Sisodia on 14 September had announced that he had tested positive for covid-19. He had been under home quarantine since. On Wednesday, he was admitted to the Lok Nayak Jayprakash hospital after his blood oxygen levels began to fall. On 14 September Sisodia said that he had undertaken a test after suffering from mild fever. While recovering from home, Sisodia had continued to work and had held press conferences related to his role as education minister. Sisodia is the second member of the Delhi cabinet to have been detected from the virus. Previously, health minister Satyendar Jain had tested positive for the virus and was admitted to a private hospital where he also received plasma therapy. Several members of the Delhi assembly including Atishi have previously tested positive for the disease but recovered at home. Delhi, which had seen a decline in the number of cases has once again seen a spurt in cases with over 3500 cases being reported over the last three weeks. The government has also increased the number of daily tests being conducted.'"
      ]
     },
     "execution_count": 27,
     "metadata": {},
     "output_type": "execute_result"
    }
   ],
   "source": [
    "unseen_docx=test.desc[ran_no]\n",
    "unseen_docx"
   ]
  },
  {
   "cell_type": "code",
   "execution_count": 28,
   "metadata": {},
   "outputs": [
    {
     "data": {
      "text/plain": [
       "['admitted',\n",
       " 'hospital',\n",
       " 'delhi',\n",
       " 'deputy',\n",
       " 'chief',\n",
       " 'minister',\n",
       " 'manish',\n",
       " 'sisodia',\n",
       " 'thursday',\n",
       " 'diagnosed',\n",
       " 'dengue',\n",
       " 'along',\n",
       " 'covid',\n",
       " 'official',\n",
       " 'said',\n",
       " 'sisodia',\n",
       " 'platelet',\n",
       " 'count',\n",
       " 'falling',\n",
       " 'admitted',\n",
       " 'hospital',\n",
       " 'complaint',\n",
       " 'breathlessness',\n",
       " 'sisodia',\n",
       " 'september',\n",
       " 'announced',\n",
       " 'tested',\n",
       " 'positive',\n",
       " 'covid',\n",
       " 'home',\n",
       " 'quarantine',\n",
       " 'since',\n",
       " 'wednesday',\n",
       " 'admitted',\n",
       " 'nayak',\n",
       " 'jayprakash',\n",
       " 'hospital',\n",
       " 'blood',\n",
       " 'oxygen',\n",
       " 'level',\n",
       " 'began',\n",
       " 'fall',\n",
       " 'september',\n",
       " 'sisodia',\n",
       " 'said',\n",
       " 'undertaken',\n",
       " 'test',\n",
       " 'suffering',\n",
       " 'mild',\n",
       " 'fever',\n",
       " 'recovering',\n",
       " 'home',\n",
       " 'sisodia',\n",
       " 'continued',\n",
       " 'work',\n",
       " 'held',\n",
       " 'press',\n",
       " 'conference',\n",
       " 'related',\n",
       " 'role',\n",
       " 'education',\n",
       " 'minister',\n",
       " 'sisodia',\n",
       " 'second',\n",
       " 'member',\n",
       " 'delhi',\n",
       " 'cabinet',\n",
       " 'detected',\n",
       " 'virus',\n",
       " 'previously',\n",
       " 'health',\n",
       " 'minister',\n",
       " 'satyendar',\n",
       " 'jain',\n",
       " 'tested',\n",
       " 'positive',\n",
       " 'virus',\n",
       " 'admitted',\n",
       " 'private',\n",
       " 'hospital',\n",
       " 'also',\n",
       " 'received',\n",
       " 'plasma',\n",
       " 'therapy',\n",
       " 'several',\n",
       " 'member',\n",
       " 'delhi',\n",
       " 'assembly',\n",
       " 'including',\n",
       " 'atishi',\n",
       " 'previously',\n",
       " 'tested',\n",
       " 'positive',\n",
       " 'disease',\n",
       " 'recovered',\n",
       " 'home',\n",
       " 'delhi',\n",
       " 'seen',\n",
       " 'decline',\n",
       " 'number',\n",
       " 'case',\n",
       " 'seen',\n",
       " 'spurt',\n",
       " 'case',\n",
       " 'case',\n",
       " 'reported',\n",
       " 'last',\n",
       " 'three',\n",
       " 'week',\n",
       " 'government',\n",
       " 'also',\n",
       " 'increased',\n",
       " 'number',\n",
       " 'daily',\n",
       " 'test',\n",
       " 'conducted']"
      ]
     },
     "execution_count": 28,
     "metadata": {},
     "output_type": "execute_result"
    }
   ],
   "source": [
    "preprocess = preprocess(unseen_docx)\n",
    "preprocess"
   ]
  },
  {
   "cell_type": "code",
   "execution_count": 29,
   "metadata": {},
   "outputs": [],
   "source": [
    "bow_vector=dictionary.doc2bow(preprocess)"
   ]
  },
  {
   "cell_type": "code",
   "execution_count": 30,
   "metadata": {},
   "outputs": [
    {
     "name": "stdout",
     "output_type": "stream",
     "text": [
      "Score: 0.11227958649396896\t Topic: 0.017*\"game\" + 0.012*\"cricket\" + 0.012*\"match\" + 0.012*\"test\" + 0.010*\"australia\" + 0.009*\"ball\" + 0.009*\"england\" + 0.008*\"played\" + 0.008*\"run\" + 0.008*\"series\" + 0.008*\"batsman\" + 0.007*\"wicket\" + 0.006*\"mumbai\" + 0.006*\"training\" + 0.006*\"tournament\" + 0.006*\"captain\" + 0.005*\"think\" + 0.005*\"thing\" + 0.005*\"season\" + 0.005*\"over\" + 0.005*\"batting\"\n",
      "Score: 0.2649560868740082\t Topic: 0.009*\"passenger\" + 0.008*\"worker\" + 0.008*\"hospital\" + 0.007*\"child\" + 0.006*\"quarantine\" + 0.006*\"road\" + 0.006*\"migrant\" + 0.006*\"medical\" + 0.006*\"calcutta\" + 0.005*\"railway\" + 0.005*\"station\" + 0.005*\"lockdown\" + 0.005*\"flight\" + 0.005*\"airport\" + 0.005*\"train\" + 0.005*\"plant\" + 0.005*\"family\" + 0.004*\"oxygen\" + 0.004*\"used\" + 0.004*\"officer\" + 0.004*\"patient\"\n",
      "Score: 0.48567456007003784\t Topic: 0.020*\"death\" + 0.018*\"patient\" + 0.013*\"reported\" + 0.012*\"recovery\" + 0.010*\"infection\" + 0.009*\"hospital\" + 0.008*\"active\" + 0.007*\"mask\" + 0.007*\"testing\" + 0.007*\"rate\" + 0.006*\"maharashtra\" + 0.006*\"infected\" + 0.006*\"test\" + 0.006*\"virus\" + 0.006*\"medical\" + 0.005*\"various\" + 0.005*\"pune\" + 0.005*\"tested\" + 0.005*\"discharged\" + 0.005*\"toll\" + 0.005*\"project\"\n",
      "Score: 0.05883459374308586\t Topic: 0.019*\"inflation\" + 0.015*\"retail\" + 0.013*\"july\" + 0.011*\"unit\" + 0.009*\"price\" + 0.009*\"rate\" + 0.008*\"demand\" + 0.007*\"industry\" + 0.007*\"reliance\" + 0.006*\"stake\" + 0.006*\"supply\" + 0.006*\"june\" + 0.006*\"oxygen\" + 0.006*\"sale\" + 0.005*\"affected\" + 0.005*\"august\" + 0.005*\"food\" + 0.005*\"policy\" + 0.005*\"billion\" + 0.005*\"investment\" + 0.004*\"lockdown\"\n",
      "Score: 0.0659613311290741\t Topic: 0.012*\"drug\" + 0.011*\"prime\" + 0.008*\"trial\" + 0.008*\"vaccine\" + 0.006*\"modi\" + 0.006*\"shah\" + 0.005*\"border\" + 0.005*\"message\" + 0.004*\"force\" + 0.004*\"section\" + 0.004*\"agency\" + 0.004*\"disease\" + 0.004*\"family\" + 0.004*\"international\" + 0.004*\"sikkim\" + 0.004*\"sushant\" + 0.004*\"parliament\" + 0.004*\"clinical\" + 0.004*\"every\" + 0.004*\"narendra\" + 0.004*\"customer\"\n"
     ]
    }
   ],
   "source": [
    "for index, score in sorted(lda_model[bow_vector]):\n",
    "    print(\"Score: {}\\t Topic: {}\".format(score, lda_model.print_topic(index, 21)))"
   ]
  },
  {
   "cell_type": "code",
   "execution_count": null,
   "metadata": {},
   "outputs": [],
   "source": []
  }
 ],
 "metadata": {
  "kernelspec": {
   "display_name": "Python 3",
   "language": "python",
   "name": "python3"
  },
  "language_info": {
   "codemirror_mode": {
    "name": "ipython",
    "version": 3
   },
   "file_extension": ".py",
   "mimetype": "text/x-python",
   "name": "python",
   "nbconvert_exporter": "python",
   "pygments_lexer": "ipython3",
   "version": "3.7.6"
  }
 },
 "nbformat": 4,
 "nbformat_minor": 4
}
